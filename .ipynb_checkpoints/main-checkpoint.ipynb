{
 "cells": [
  {
   "cell_type": "markdown",
   "metadata": {},
   "source": [
    "# Figures produced of FHIST f09_f09 simulations for paper"
   ]
  },
  {
   "cell_type": "markdown",
   "metadata": {},
   "source": [
    "## 1. Settings"
   ]
  },
  {
   "cell_type": "markdown",
   "metadata": {},
   "source": [
    "### 1.1 Import the necessary python libraries"
   ]
  },
  {
   "cell_type": "code",
   "execution_count": 1,
   "metadata": {},
   "outputs": [],
   "source": [
    "from __future__ import print_function\n",
    "import sys\n",
    "import os\n",
    "from getpass import getuser\n",
    "import string\n",
    "import subprocess\n",
    "import numpy as np\n",
    "import matplotlib\n",
    "import matplotlib.pyplot as plt\n",
    "import matplotlib.colors as colors\n",
    "import netCDF4 as netcdf4\n",
    "import xarray as xr\n",
    "import pandas\n",
    "import regionmask\n",
    "import cartopy.crs as ccrs\n",
    "from IPython.display import display, Math, Latex\n",
    "import warnings\n",
    "\n",
    "# import own utils module\n",
    "from iv_utils import *\n",
    "\n",
    "# do plotting settings\n",
    "set_plot_param()"
   ]
  },
  {
   "cell_type": "markdown",
   "metadata": {},
   "source": [
    "### 1.2 General Settings"
   ]
  },
  {
   "cell_type": "code",
   "execution_count": 2,
   "metadata": {},
   "outputs": [],
   "source": [
    "# set directories\n",
    "outdir = '/glade/scratch/ivanderk/'\n",
    "\n",
    "# Define directory where processing is done -- subject to change\n",
    "procdir =  '/glade/work/ivanderk/' + 'postprocessing/' \n",
    "\n",
    "# go to processing directory \n",
    "os.chdir(procdir)\n",
    "\n",
    "# ignore all runtime warnings\n",
    "warnings.filterwarnings('ignore')"
   ]
  },
  {
   "cell_type": "markdown",
   "metadata": {},
   "source": [
    "### 1.3 User settings"
   ]
  },
  {
   "cell_type": "code",
   "execution_count": 3,
   "metadata": {},
   "outputs": [],
   "source": [
    "# set case name\n",
    "case_res   = 'f.FHIST.f09_f09_mg17.CTL'\n",
    "case_nores = 'f.FHIST.f09_f09_mg17.NORES'\n",
    "\n",
    "# set number of ensemble members\n",
    "n_ens = 5\n",
    "\n",
    "# set individual case names for reference\n",
    "case_res_ind   = 'f.FHIST.f09_f09_mg17.CTL.001'\n",
    "case_nores_ind   = 'f.FHIST.f09_f09_mg17.NORES.001'\n",
    "case   = 'f.FHIST.f09_f09_mg17.CTL.001'\n",
    "\n",
    "# run settings -- change this to terms directly? \n",
    "block = 'atm'  # lnd data\n",
    "               # atm data\n",
    "               # rof data\n",
    "        \n",
    "stream = 'h0'  # h0 output block\n",
    "               # h1 output block\n",
    "               # h2 output block\n",
    "               # xtrm calculated (annual)\n",
    "        \n",
    "# define start and end year\n",
    "spstartyear = '1979'   # spin up start year \n",
    "startyear   = '1984'   # start year, spin up excluded\n",
    "endyear     = '2014'   # last year of the simulation\n"
   ]
  },
  {
   "cell_type": "markdown",
   "metadata": {},
   "source": [
    "## Tables"
   ]
  },
  {
   "cell_type": "markdown",
   "metadata": {},
   "source": [
    "### Table 1. # reservoir grid cells"
   ]
  },
  {
   "cell_type": "code",
   "execution_count": 4,
   "metadata": {},
   "outputs": [
    {
     "name": "stdout",
     "output_type": "stream",
     "text": [
      ">0%\n",
      "1175\n",
      "6.1 %\n",
      " \n",
      ">1%\n",
      "450\n",
      "2.34 %\n",
      " \n",
      ">2%\n",
      "249\n",
      "1.29 %\n",
      " \n",
      ">5%\n",
      "91\n",
      "0.47 %\n",
      " \n",
      ">10%\n",
      "42\n",
      "0.22 %\n",
      " \n",
      ">15%\n",
      "15\n",
      "0.08 %\n",
      " \n"
     ]
    }
   ],
   "source": [
    "print('>0%')\n",
    "print(get_resmask(threshold=0).sum().values)\n",
    "print(str(np.round(get_resmask(threshold=0).sum().values/get_landmask().sum().values *100,2))+' %')\n",
    "print(' ')\n",
    "\n",
    "print('>1%')\n",
    "print(get_resmask(threshold=1).sum().values)\n",
    "print(str(np.round(get_resmask(threshold=1).sum().values/get_landmask().sum().values *100,2))+' %')\n",
    "print(' ')\n",
    "\n",
    "print('>2%')\n",
    "print(get_resmask(threshold=2).sum().values)\n",
    "print(str(np.round(get_resmask(threshold=2).sum().values/get_landmask().sum().values *100,2))+' %')\n",
    "print(' ')\n",
    "\n",
    "print('>5%')\n",
    "print(get_resmask(threshold=5).sum().values)\n",
    "print(str(np.round(get_resmask(threshold=5).sum().values/get_landmask().sum().values *100,2))+' %')\n",
    "print(' ')\n",
    "\n",
    "print('>10%')\n",
    "print(get_resmask(threshold=10).sum().values)\n",
    "print(str(np.round(get_resmask(threshold=10).sum().values/get_landmask().sum().values *100,2))+' %')\n",
    "print(' ')\n",
    "\n",
    "print('>15%')\n",
    "print(get_resmask(threshold=15).sum().values)\n",
    "print(str(np.round(get_resmask(threshold=15).sum().values/get_landmask().sum().values *100,2))+' %')\n",
    "print(' ')\n"
   ]
  },
  {
   "cell_type": "markdown",
   "metadata": {},
   "source": [
    "##  Figures"
   ]
  },
  {
   "cell_type": "markdown",
   "metadata": {},
   "source": [
    "### Figure 1. Reservoir area map and lake area increase\n",
    "See lake area timeseries plot at [land-only note book](pp_IHIST_paper.ipynb)"
   ]
  },
  {
   "cell_type": "code",
   "execution_count": 5,
   "metadata": {},
   "outputs": [],
   "source": [
    "# open pct lake \n",
    "da_delta = open_da_delta('PCT_LANDUNIT',case_res,case_nores, block = 'lnd')\n",
    "dpctlake = da_delta.sel(ltype = 4)[1,:,:]\n",
    "\n",
    "mpl.rc('ytick',labelsize=14)\n",
    "mpl.rc('axes',titlesize=16)\n",
    "mpl.rc('axes',labelsize=14)"
   ]
  },
  {
   "cell_type": "code",
   "execution_count": 6,
   "metadata": {},
   "outputs": [
    {
     "name": "stdout",
     "output_type": "stream",
     "text": [
      "Rerservoir area fraction: mean %\n",
      "1.857872112229453\n"
     ]
    }
   ],
   "source": [
    "# open pct lake\n",
    "print('Rerservoir area fraction: mean %')\n",
    "print(dpctlake.where(dpctlake>0).mean().values)"
   ]
  },
  {
   "cell_type": "code",
   "execution_count": 104,
   "metadata": {},
   "outputs": [
    {
     "data": {
      "image/png": "[encoded data removed]",
      "text/plain": [
       "<Figure size 864x360 with 2 Axes>"
      ]
     },
     "metadata": {
      "needs_background": "light"
     },
     "output_type": "display_data"
    }
   ],
   "source": [
    "# plot figure of pct lake\n",
    "\n",
    "fig = plt.figure(figsize=(12,5))\n",
    "proj=ccrs.PlateCarree()\n",
    "\n",
    "ax = plt.subplot(111, projection=proj)\n",
    "\n",
    "levels_self = [0,0.5,2.5,5,10,20]\n",
    "dpctlake.plot(ax=ax,cmap='gist_earth_r', add_labels=False, levels = levels_self, extend='max',cbar_kwargs={'fraction': 0.1, 'pad': 0.04,'label': '%', 'orientation': 'vertical'})\n",
    "\n",
    "plt.title('Reservoir grid cell area fraction', loc='right')\n",
    "\n",
    "ax.coastlines(color='darkgrey')\n",
    "# exclude Antactica from plot\n",
    "ax.set_extent((-180,180,-63,90), crs=proj) \n",
    "ax.text(0, 1.02, 'a', color='dimgrey', fontsize=14, transform=ax.transAxes, weight = 'bold');\n",
    "\n",
    "\n",
    "fig.savefig('./plots/reservoir_map.png',  bbox_inches='tight', dpi=300)"
   ]
  },
  {
   "cell_type": "markdown",
   "metadata": {},
   "source": [
    "### Figure 2. Land only transient signals\n",
    "see [land only notebook](./pp_IHIST_paper.ipynb)"
   ]
  },
  {
   "cell_type": "markdown",
   "metadata": {},
   "source": [
    "### Figure 3. Maps of reference height temperature, SHF and LHF\n",
    "\n",
    "to do: statistical significance mask + get figures on one subplot\n"
   ]
  },
  {
   "cell_type": "code",
   "execution_count": 10,
   "metadata": {},
   "outputs": [],
   "source": [
    "# plot global map of difference \n",
    "def plot_delta_map(da_delta, mask_notsign = False, plot_regions=False, vlims=False, calcsum=False, cmap='BrBG', ax = False, tick_levels = False, nsteps = 16, orientation = 'vertical', panel_label=False):\n",
    "    \n",
    "    # calculate annual sum instead of mean (precip)\n",
    "    if calcsum: \n",
    "        da_delta_ysum = da_delta.groupby('time.year').sum()\n",
    "        da_delta_mean = da_delta_ysum.mean('year')\n",
    "        da_delta_mean.attrs['units'] = 'mm/year'\n",
    "    # only one value\n",
    "    elif len(da_delta.dims) < 3: \n",
    "        da_delta_mean = da_delta\n",
    "    # annual means already taken\n",
    "    elif len(da_delta) < 50:\n",
    "        da_delta_mean = da_delta.mean('year')\n",
    "    else:\n",
    "        da_delta_mean = da_delta.mean('time')\n",
    "    \n",
    "    proj=ccrs.PlateCarree()\n",
    "\n",
    "    \n",
    "    if ax == False:    \n",
    "        plt.figure(figsize=(12,5))\n",
    "        ax = plt.subplot(111, projection=proj)\n",
    "    \n",
    "    # limiting values for plotting are given    \n",
    "    if vlims==False: \n",
    "        da_delta_mean.plot(ax=ax, cmap=cmap, cbar_kwargs={'label': da_delta.name+' ('+da_delta.units+')', 'fraction': 0.02, 'pad': 0.04})\n",
    "    else: \n",
    "        step = (vlims[1]-vlims[0])/nsteps\n",
    "        levels = np.arange(vlims[0], vlims[1]+step, step)\n",
    "        if tick_levels == False:\n",
    "            da_delta_mean.plot(ax=ax, cmap=cmap, vmin=vlims[0], vmax=vlims[1], levels = levels, extend='both',  cbar_kwargs={'label':da_delta.units, 'fraction': 0.02, 'pad': 0.04}, add_labels=False)\n",
    "            \n",
    "        else: \n",
    "            \n",
    "            if orientation == 'vertical':\n",
    "                da_delta_mean.plot(ax=ax, cmap=cmap, vmin=vlims[0], vmax=vlims[1], levels = levels, extend='both',  cbar_kwargs={'label':da_delta.units, 'ticks' : tick_levels,'fraction': 0.02, 'pad': 0.03}, add_labels=False)\n",
    "            else : \n",
    "                da_delta_mean.plot(ax=ax, cmap=cmap, vmin=vlims[0], vmax=vlims[1], levels = levels, extend='both',  cbar_kwargs={'label':da_delta.units, 'ticks' : tick_levels, 'fraction': 0.095, 'pad' : 0.05, 'orientation' : 'horizontal'}, add_labels=False)\n",
    "\n",
    "        \n",
    "    ax.set_title(da_delta.long_name, loc='right')\n",
    "    ax.coastlines(color='dimgray', linewidth=0.5)\n",
    "    # exclude Antactica from plot\n",
    "    ax.set_extent((-180,180,-63,90), crs=proj) \n",
    "    \n",
    "    if panel_label != False:\n",
    "        ax.text(0, 1.02, panel_label, color='dimgrey', fontsize=14, transform=ax.transAxes, weight = 'bold')\n",
    "\n",
    "    if plot_regions: regionmask.defined_regions.srex.plot(ax=ax,add_ocean=False, coastlines=False, add_label=False) #label='abbrev'\n",
    "    return ax\n"
   ]
  },
  {
   "cell_type": "code",
   "execution_count": null,
   "metadata": {},
   "outputs": [],
   "source": [
    "%%time\n",
    "\n",
    "# load data to plot\n",
    "\n",
    "var='TREFHT'\n",
    "da_delta = open_da_delta(var,case_res,case_nores, ens=True)\n",
    "da_delta_ens_all = open_da_delta(var, case_res, case_nores, mode='all')\n",
    "da_T2M_toplot = da_delta.where(get_statsign_fieldsign_mask(da_delta_ens_all))\n",
    "\n",
    "# for stdev plot\n",
    "da_delta_mean  = da_delta_ens_all.mean('ens_member')\n",
    "da_delta_std = da_delta_ens_all.std('ens_member')\n",
    "da_T2M_mean_std = (da_delta_mean/da_delta_std).where(get_statsign_fieldsign_mask(da_delta_ens_all))\n",
    "notsign_T2M = np.logical_not(get_statsign_fieldsign_mask(da_delta_ens_all))\n",
    "\n",
    "\n",
    "var = 'LHFLX'\n",
    "da_delta = open_da_delta(var,case_res,case_nores, ens=True)\n",
    "da_delta_ens_all = open_da_delta(var, case_res, case_nores, mode='all')\n",
    "da_LHF_toplot= da_delta.where(get_statsign_fieldsign_mask(da_delta_ens_all))\n",
    "\n",
    "# for stdev plot\n",
    "da_delta_mean  = da_delta_ens_all.mean('ens_member')\n",
    "da_delta_std = da_delta_ens_all.std('ens_member')\n",
    "da_LHF_mean_std = (da_delta_mean/da_delta_std).where(get_statsign_fieldsign_mask(da_delta_ens_all))\n",
    "notsign_LHF = np.logical_not(get_statsign_fieldsign_mask(da_delta_ens_all))\n",
    "\n",
    "\n",
    "var = 'SHFLX'\n",
    "da_delta = open_da_delta(var,case_res,case_nores, ens=True)\n",
    "da_delta_ens_all = open_da_delta(var, case_res, case_nores, mode='all')\n",
    "da_SHF_toplot = da_delta.where(get_statsign_fieldsign_mask(da_delta_ens_all))\n",
    "\n",
    "# for stdev plot\n",
    "da_delta_mean  = da_delta_ens_all.mean('ens_member')\n",
    "da_delta_std = da_delta_ens_all.std('ens_member')\n",
    "da_SHF_mean_std = (da_delta_mean/da_delta_std).where(get_statsign_fieldsign_mask(da_delta_ens_all))\n",
    "notsign_SHF = np.logical_not(get_statsign_fieldsign_mask(da_delta_ens_all))\n",
    "\n",
    "\n",
    "\n"
   ]
  },
  {
   "cell_type": "code",
   "execution_count": null,
   "metadata": {},
   "outputs": [],
   "source": [
    "# settings\n",
    "mpl.rc('ytick',labelsize=14)\n",
    "mpl.rc('axes',titlesize=16)\n",
    "mpl.rc('axes',labelsize=14)\n",
    "\n",
    "# set title variable names\n",
    "da_T2M_toplot.attrs['long_name'] = r'$\\Delta$ T$_{2m}$'\n",
    "\n",
    "da_LHF_toplot.attrs['long_name'] = r'$\\Delta$ LHF'\n",
    "da_LHF_toplot.attrs['units'] = r'W m$^{-2}$'\n",
    "\n",
    "da_SHF_toplot.attrs['long_name'] = r'$\\Delta$ SHF'\n",
    "da_SHF_toplot.attrs['units'] = r'W m$^{-2}$'\n",
    "\n",
    "da_T2M_mean_std.attrs['long_name'] = r'$\\Delta$ T$_{2m}$'\n",
    "da_T2M_mean_std.attrs['units'] = '[-]'\n",
    "\n",
    "da_LHF_mean_std.attrs['long_name'] = r'$\\Delta$ LHF'\n",
    "da_LHF_mean_std.attrs['units'] = '[-]'\n",
    "\n",
    "da_SHF_mean_std.attrs['long_name'] = r'$\\Delta$ SHF'\n",
    "da_SHF_mean_std.attrs['units'] = '[-]'\n"
   ]
  },
  {
   "cell_type": "code",
   "execution_count": null,
   "metadata": {},
   "outputs": [],
   "source": [
    "# do plotting\n",
    "fig, axes = plt.subplots(nrows=3,ncols=1, figsize=(12,14), subplot_kw={'projection': ccrs.PlateCarree()})\n",
    "axes=axes.flatten()\n",
    "\n",
    "plot_delta_map(da_T2M_toplot, cmap='RdBu_r', vlims=[-0.5,0.5], ax = axes[0], tick_levels = [-1,-0.75,-0.5,-0.25,0,0.25,0.5,0.75,1], nsteps = 8, panel_label = 'a')\n",
    "plot_delta_map(da_LHF_toplot, vlims=[-10,10], ax = axes[1], tick_levels = [-10,-7.5,-5,-2.5,0,2.5,5,7.5,10], nsteps = 10, panel_label = 'b')\n",
    "plot_delta_map(da_SHF_toplot, vlims=[-10,10], ax = axes[2], tick_levels = [-10,-7.5,-5,-2.5,0,2.5,5,7.5,10], nsteps = 10, panel_label = 'c')\n",
    "\n",
    "fig.tight_layout()\n",
    "fig.savefig('./plots/means_maps.png',  bbox_inches='tight')"
   ]
  },
  {
   "cell_type": "code",
   "execution_count": null,
   "metadata": {},
   "outputs": [],
   "source": [
    "# get average values\n",
    "\n",
    "resmask = get_resmask()\n",
    "\n",
    "print(da_T2M_toplot.attrs['long_name'])\n",
    "print(da_T2M_toplot.mean().values)\n",
    "print()\n",
    "\n",
    "print(da_LHF_toplot.attrs['long_name'])\n",
    "print(da_LHF_toplot.where(resmask).mean().values)\n",
    "print()\n",
    "\n",
    "print(da_SHF_toplot.attrs['long_name'])\n",
    "print(da_SHF_toplot.where(resmask).mean().values)\n",
    "print()\n"
   ]
  },
  {
   "cell_type": "code",
   "execution_count": null,
   "metadata": {},
   "outputs": [],
   "source": [
    "# plot mu/sigma maps\n",
    "\n",
    "fig, axes = plt.subplots(nrows=3,ncols=1, figsize=(12,14), subplot_kw={'projection': ccrs.PlateCarree()})\n",
    "axes=axes.flatten()\n",
    "\n",
    "plot_delta_map(da_T2M_mean_std, mask_notsign = notsign_T2M,  cmap='RdBu_r', vlims=[-1.5,1.5], ax=axes[0], tick_levels = [-2,-1.5,-1,-0.5,0,0.5,1,1.5,2], nsteps = 6, panel_label='a')\n",
    "plot_delta_map(da_LHF_mean_std, mask_notsign = notsign_LHF,  vlims=[-1.5,1.5], ax=axes[1], tick_levels = [-2,-1.5,-1,-0.5,0,0.5,1,1.5,2], nsteps = 6, panel_label='b')\n",
    "plot_delta_map(da_SHF_mean_std, mask_notsign = notsign_SHF,   vlims=[-1.5,1.5], ax=axes[2], tick_levels = [-2,-1.5,-1,-0.5,0,0.5,1,1.5,2], nsteps = 6, panel_label='c')\n",
    "\n",
    "\n",
    "fig.tight_layout()\n",
    "fig.savefig('./plots/signal_stdev_maps.png',  bbox_inches='tight')\n"
   ]
  },
  {
   "cell_type": "markdown",
   "metadata": {},
   "source": [
    "### Figure 4. DTR map + seasonal\n"
   ]
  },
  {
   "cell_type": "code",
   "execution_count": 108,
   "metadata": {},
   "outputs": [
    {
     "name": "stdout",
     "output_type": "stream",
     "text": [
      "CPU times: user 1min 20s, sys: 6.06 s, total: 1min 26s\n",
      "Wall time: 1min 26s\n"
     ]
    }
   ],
   "source": [
    "%%time\n",
    "\n",
    "# load DTR \n",
    "var = 'DTR'\n",
    "da_delta = open_da_delta(var,case_res,case_nores)\n",
    "da_delta_ens_all = open_da_delta(var, case_res, case_nores, mode='all')\n",
    "da_DTR_toplot = da_delta.where(get_statsign_fieldsign_mask(da_delta_ens_all))\n",
    "\n",
    "dtr_res = open_da_ens(var, case=case_res)\n",
    "dtr_nores = open_da_ens(var, case=case_nores)\n",
    "\n"
   ]
  },
  {
   "cell_type": "code",
   "execution_count": 111,
   "metadata": {},
   "outputs": [
    {
     "data": {
      "image/png": "[encoded data removed]",
      "text/plain": [
       "<Figure size 864x288 with 2 Axes>"
      ]
     },
     "metadata": {
      "needs_background": "light"
     },
     "output_type": "display_data"
    }
   ],
   "source": [
    "fig, ax = plt.subplots(1,2, figsize=(12,4))\n",
    "vlims=[0,10]\n",
    "plot_seascycle_respct(dtr_res, ax=ax[0], title='DTR RES', legend=False,vlims=vlims,  panel_label = 'a')\n",
    "plot_seascycle_respct(dtr_nores,  ax=ax[1], title='DTR NORES', legend=True,vlims=vlims,  panel_label = 'b')\n",
    "fig.savefig('./plots/DTR_seascycles.png',  bbox_inches='tight')\n"
   ]
  },
  {
   "cell_type": "code",
   "execution_count": 116,
   "metadata": {},
   "outputs": [],
   "source": [
    "res = dtr_res.where(get_resmask(threshold=15)).groupby('time.month').mean().mean(dim=('lat','lon')).max() - dtr_res.where(get_resmask(threshold=15)).groupby('time.month').mean().mean(dim=('lat','lon')).min()\n"
   ]
  },
  {
   "cell_type": "code",
   "execution_count": 117,
   "metadata": {},
   "outputs": [
    {
     "data": {
      "text/html": [
       "<pre>&lt;xarray.DataArray &#x27;DTR&#x27; ()&gt;\n",
       "array(0.06715822)</pre>"
      ],
      "text/plain": [
       "<xarray.DataArray 'DTR' ()>\n",
       "array(0.06715822)"
      ]
     },
     "execution_count": 117,
     "metadata": {},
     "output_type": "execute_result"
    }
   ],
   "source": [
    "nores = dtr_nores.where(get_resmask(threshold=15)).groupby('time.month').mean().mean(dim=('lat','lon')).max() - dtr_nores.where(get_resmask(threshold=15)).groupby('time.month').mean().mean(dim=('lat','lon')).min()\n",
    "res-nores"
   ]
  },
  {
   "cell_type": "code",
   "execution_count": 107,
   "metadata": {},
   "outputs": [
    {
     "ename": "TypeError",
     "evalue": "plot_delta_map() got an unexpected keyword argument 'ax'",
     "output_type": "error",
     "traceback": [
      "\u001b[0;31m---------------------------------------------------------------------------\u001b[0m",
      "\u001b[0;31mTypeError\u001b[0m                                 Traceback (most recent call last)",
      "\u001b[0;32m<ipython-input-107-f7f93864781d>\u001b[0m in \u001b[0;36m<module>\u001b[0;34m\u001b[0m\n\u001b[1;32m      2\u001b[0m \u001b[0;34m\u001b[0m\u001b[0m\n\u001b[1;32m      3\u001b[0m \u001b[0mfig\u001b[0m\u001b[0;34m,\u001b[0m \u001b[0max1\u001b[0m \u001b[0;34m=\u001b[0m \u001b[0mplt\u001b[0m\u001b[0;34m.\u001b[0m\u001b[0msubplots\u001b[0m\u001b[0;34m(\u001b[0m\u001b[0;36m1\u001b[0m\u001b[0;34m,\u001b[0m \u001b[0mfigsize\u001b[0m\u001b[0;34m=\u001b[0m\u001b[0;34m(\u001b[0m\u001b[0;36m12\u001b[0m\u001b[0;34m,\u001b[0m\u001b[0;36m6\u001b[0m\u001b[0;34m)\u001b[0m\u001b[0;34m,\u001b[0m \u001b[0msubplot_kw\u001b[0m\u001b[0;34m=\u001b[0m\u001b[0;34m{\u001b[0m\u001b[0;34m'projection'\u001b[0m\u001b[0;34m:\u001b[0m \u001b[0mccrs\u001b[0m\u001b[0;34m.\u001b[0m\u001b[0mPlateCarree\u001b[0m\u001b[0;34m(\u001b[0m\u001b[0;34m)\u001b[0m\u001b[0;34m}\u001b[0m\u001b[0;34m)\u001b[0m\u001b[0;34m\u001b[0m\u001b[0;34m\u001b[0m\u001b[0m\n\u001b[0;32m----> 4\u001b[0;31m \u001b[0mplot_delta_map\u001b[0m\u001b[0;34m(\u001b[0m\u001b[0mda_DTR_toplot\u001b[0m\u001b[0;34m,\u001b[0m \u001b[0mcmap\u001b[0m\u001b[0;34m=\u001b[0m\u001b[0;34m'RdBu_r'\u001b[0m\u001b[0;34m,\u001b[0m \u001b[0mvlims\u001b[0m\u001b[0;34m=\u001b[0m\u001b[0;34m[\u001b[0m\u001b[0;34m-\u001b[0m\u001b[0;36m1\u001b[0m\u001b[0;34m,\u001b[0m\u001b[0;36m1\u001b[0m\u001b[0;34m]\u001b[0m\u001b[0;34m,\u001b[0m \u001b[0max\u001b[0m \u001b[0;34m=\u001b[0m \u001b[0max1\u001b[0m\u001b[0;34m,\u001b[0m \u001b[0mtick_levels\u001b[0m \u001b[0;34m=\u001b[0m \u001b[0;34m[\u001b[0m\u001b[0;34m-\u001b[0m\u001b[0;36m1\u001b[0m\u001b[0;34m,\u001b[0m\u001b[0;34m-\u001b[0m\u001b[0;36m0.75\u001b[0m\u001b[0;34m,\u001b[0m\u001b[0;34m-\u001b[0m\u001b[0;36m0.5\u001b[0m\u001b[0;34m,\u001b[0m\u001b[0;34m-\u001b[0m\u001b[0;36m0.25\u001b[0m\u001b[0;34m,\u001b[0m\u001b[0;36m0\u001b[0m\u001b[0;34m,\u001b[0m\u001b[0;36m0.25\u001b[0m\u001b[0;34m,\u001b[0m\u001b[0;36m0.5\u001b[0m\u001b[0;34m,\u001b[0m\u001b[0;36m0.75\u001b[0m\u001b[0;34m,\u001b[0m\u001b[0;36m1\u001b[0m\u001b[0;34m]\u001b[0m\u001b[0;34m,\u001b[0m \u001b[0mnsteps\u001b[0m \u001b[0;34m=\u001b[0m \u001b[0;36m8\u001b[0m\u001b[0;34m,\u001b[0m \u001b[0morientation\u001b[0m \u001b[0;34m=\u001b[0m \u001b[0;34m'horizontal'\u001b[0m\u001b[0;34m,\u001b[0m \u001b[0mpanel_label\u001b[0m \u001b[0;34m=\u001b[0m \u001b[0;34m'a'\u001b[0m\u001b[0;34m)\u001b[0m\u001b[0;34m\u001b[0m\u001b[0;34m\u001b[0m\u001b[0m\n\u001b[0m\u001b[1;32m      5\u001b[0m \u001b[0;34m\u001b[0m\u001b[0m\n\u001b[1;32m      6\u001b[0m \u001b[0mfig\u001b[0m\u001b[0;34m.\u001b[0m\u001b[0mtight_layout\u001b[0m\u001b[0;34m(\u001b[0m\u001b[0;34m)\u001b[0m\u001b[0;34m\u001b[0m\u001b[0;34m\u001b[0m\u001b[0m\n",
      "\u001b[0;31mTypeError\u001b[0m: plot_delta_map() got an unexpected keyword argument 'ax'"
     ]
    },
    {
     "data": {
      "image/png": "[encoded data removed]",
      "text/plain": [
       "<Figure size 864x432 with 1 Axes>"
      ]
     },
     "metadata": {
      "needs_background": "light"
     },
     "output_type": "display_data"
    }
   ],
   "source": [
    "da_DTR_toplot.attrs['long_name'] = r'$\\Delta$ DTR'\n",
    "\n",
    "fig, ax1 = plt.subplots(1, figsize=(12,6), subplot_kw={'projection': ccrs.PlateCarree()})\n",
    "plot_delta_map(da_DTR_toplot, cmap='RdBu_r', vlims=[-1,1], ax = ax1, tick_levels = [-1,-0.75,-0.5,-0.25,0,0.25,0.5,0.75,1], nsteps = 8, orientation = 'horizontal', panel_label = 'a')\n",
    "\n",
    "fig.tight_layout()\n",
    "fig.savefig('./plots/DTR_map.png',  bbox_inches='tight')\n"
   ]
  },
  {
   "cell_type": "code",
   "execution_count": null,
   "metadata": {},
   "outputs": [],
   "source": [
    "mpl.rc('ytick',labelsize=12)\n",
    "mpl.rc('axes',titlesize=12)\n",
    "mpl.rc('axes',labelsize=12)\n",
    "\n",
    "fig, ax= plt.subplots(1, figsize=(6,3))\n",
    "\n",
    "plot_seascycle_respct(da_DTR_toplot, ax=ax, title='$\\Delta$ DTR', legend=True, vlims = [-1.6, 0], panel_label = 'b')\n",
    "\n",
    "fig.tight_layout()\n",
    "fig.savefig('./plots/DTR_timeseries.png',  bbox_inches='tight')\n"
   ]
  },
  {
   "cell_type": "code",
   "execution_count": null,
   "metadata": {},
   "outputs": [],
   "source": [
    "# get values decrease in summer months (max decrease)\n",
    "\n",
    "print('threshold >0%')\n",
    "print(da_DTR_toplot.where(get_resmask(threshold=0)).groupby('time.month').mean().mean(dim=('lat','lon')).min().values)\n",
    "\n",
    "print()\n",
    "\n",
    "print('threshold >0%')\n",
    "print(da_DTR_toplot.where(get_resmask(threshold=15)).groupby('time.month').mean().mean(dim=('lat','lon')).min().values)\n",
    "print()\n"
   ]
  },
  {
   "cell_type": "code",
   "execution_count": null,
   "metadata": {},
   "outputs": [],
   "source": [
    "\n",
    "fig = plt.figure(figsize=(16,5))\n",
    "da_DTR_toplot.attrs['long_name'] = r'$\\Delta$ DTR, annual mean'\n",
    "\n",
    "grid = plt.GridSpec(7, 7)\n",
    "\n",
    "ax1 = plt.subplot(grid[0:7, 0:3], projection=ccrs.PlateCarree())\n",
    "ax2 = plt.subplot(grid[2:6, 4:6])\n",
    "\n",
    "plot_delta_map(da_DTR_toplot, cmap='RdBu_r', vlims=[-1.5,1.5], ax = ax1, tick_levels = [-1.5,-1,-0.5,0,0.5,1,1.5], nsteps = 12, orientation = 'horizontal', panel_label = 'a')\n",
    "\n",
    "\n",
    "# create grid\n",
    "\n",
    "\n",
    "plot_seascycle_respct(da_delta, ax=ax2, title=r'$\\Delta$ DTR, seasonal cycle', legend=False, vlims = False, panel_label = 'b')\n",
    "\n",
    "#fig.tight_layout()\n",
    "\n",
    "fig.savefig('./plots/DTR.png',  bbox_inches='tight')\n"
   ]
  },
  {
   "cell_type": "markdown",
   "metadata": {},
   "source": [
    "### Figure 5. TXx, TNn\n",
    "\n",
    "Extremes are calculated using the functions in the [calculate_extremes](./pp_FHIST_calculate_extremes.ipynb) notebook"
   ]
  },
  {
   "cell_type": "code",
   "execution_count": null,
   "metadata": {},
   "outputs": [],
   "source": [
    "%%time\n",
    "\n",
    "# load variables\n",
    "\n",
    "var = 'TXx_m'\n",
    "da_delta_TXx_m = open_da_delta(var,case_res,case_nores)\n",
    "da_delta_TXx_m.attrs['long_name'] = '$\\Delta$ TXx'\n",
    "da_delta_ens_all = open_da_delta(var, case_res, case_nores, mode='all')\n",
    "da_TXx_m_toplot = da_delta_TXx_m.where(get_statsign_fieldsign_mask(da_delta_ens_all))\n",
    "\n",
    "var = 'TNn_m'\n",
    "da_delta_TNn_m = open_da_delta(var,case_res,case_nores)\n",
    "da_delta_TNn_m.attrs['long_name'] = '$\\Delta$ TNn'\n",
    "da_delta_ens_all = open_da_delta(var, case_res, case_nores, mode='all')\n",
    "da_TNn_m_toplot = da_delta_TNn_m.where(get_statsign_fieldsign_mask(da_delta_ens_all))\n",
    "\n"
   ]
  },
  {
   "cell_type": "code",
   "execution_count": null,
   "metadata": {},
   "outputs": [],
   "source": [
    "# do plotting - maps\n",
    "# settings\n",
    "mpl.rc('ytick',labelsize=14)\n",
    "mpl.rc('axes',titlesize=16)\n",
    "mpl.rc('axes',labelsize=14)\n",
    "\n",
    "fig, axes = plt.subplots(2,1,figsize=(12,10), subplot_kw={'projection': ccrs.PlateCarree()})\n",
    "axes = axes.flatten()\n",
    "\n",
    "\n",
    "plot_delta_map(da_TXx_m_toplot, vlims=[-1.5,1.5], cmap='RdBu_r',tick_levels = [-1.5,-1,-0.5,0,0.5,1,1.5], nsteps = 12, ax = axes[0], panel_label='a')\n",
    "plot_delta_map(da_TNn_m_toplot, vlims=[-1.5,1.5], cmap='RdBu_r',tick_levels = [-1.5,-1,-0.5,0,0.5,1,1.5], nsteps = 12, ax = axes[1], panel_label='c')\n",
    "\n",
    "fig.savefig('./plots/extremes_maps.png',  bbox_inches='tight')\n"
   ]
  },
  {
   "cell_type": "code",
   "execution_count": null,
   "metadata": {},
   "outputs": [],
   "source": [
    "print(da_TXx_m_toplot.attrs['long_name'])\n",
    "print(da_TXx_m_toplot.where(resmask).mean().values)\n",
    "print()\n",
    "\n",
    "print(da_TNn_m_toplot.attrs['long_name'])\n",
    "print(da_TNn_m_toplot.where(resmask).mean().values)\n",
    "print()\n",
    "\n"
   ]
  },
  {
   "cell_type": "code",
   "execution_count": null,
   "metadata": {},
   "outputs": [],
   "source": [
    "#resmask=get_resmask(threshold=15)\n",
    "print(da_TXx_m_toplot.attrs['long_name'])\n",
    "print(da_TXx_m_toplot.where(resmask).mean('time').min().values)\n",
    "print()\n",
    "\n",
    "print(da_TNn_m_toplot.attrs['long_name'])\n",
    "print(da_TNn_m_toplot.where(resmask).mean('time').max().values)\n",
    "print()\n",
    "\n"
   ]
  },
  {
   "cell_type": "code",
   "execution_count": null,
   "metadata": {},
   "outputs": [],
   "source": [
    "# do plotting  - seas cycles\n",
    "set_plot_param()\n",
    "mpl.rc('legend',fontsize='medium')\n",
    "\n",
    "fig, axes = plt.subplots(2,1,figsize=(6,6))\n",
    "axes = axes.flatten()\n",
    "\n",
    "\n",
    "# plot seasonal cycle\n",
    "plot_seascycle_respct(da_delta_TXx_m, ax = axes[0], panel_label = 'b', vlims = [-1.8,0.1], xlabel=False)\n",
    "plot_seascycle_respct(da_delta_TNn_m, ax = axes[1], legend = False, panel_label = 'd', vlims = [-0.1,1.8])\n",
    "\n",
    "fig.tight_layout()\n",
    "\n",
    "fig.savefig('./plots/extremes_seascycles.png',  bbox_inches='tight')\n"
   ]
  },
  {
   "cell_type": "markdown",
   "metadata": {},
   "source": [
    "### Figure 6. seasonal cycle SEB components + T2m\n"
   ]
  },
  {
   "cell_type": "code",
   "execution_count": null,
   "metadata": {},
   "outputs": [],
   "source": [
    "%%time\n",
    "# load SEB components\n",
    "\n",
    "# Short wave radiation\n",
    "da_dSWin = open_da_delta('FSDS',  case_res, case_nores, block = 'lnd')\n",
    "da_dSWout= open_da_delta('FSR' ,  case_res, case_nores, block = 'lnd')\n",
    "\n",
    "# Long wave radiation\n",
    "da_dLWin = open_da_delta('FLDS', case_res, case_nores, block = 'lnd')\n",
    "da_dLWout   = open_da_delta('FIRE', case_res, case_nores, block = 'lnd')\n",
    "\n",
    "var = 'FSDS'\n",
    "delta_SWin = open_da_delta(var,case_res,case_nores, block='lnd')\n",
    "var = 'FSR'\n",
    "delta_SWout =  open_da_delta(var,case_res,case_nores, block='lnd')\n",
    "\n",
    "delta_SWnet = delta_SWin - delta_SWout\n",
    "delta_SWnet.attrs['units'] = delta_SWin.units\n",
    "delta_SWnet.attrs['long_name'] = 'net shortwave radiation'\n",
    "\n",
    "var = 'FLDS'\n",
    "delta_LWin = open_da_delta(var,case_res,case_nores, block='lnd')\n",
    "var = 'FIRE'\n",
    "delta_LWout =  open_da_delta(var,case_res,case_nores, block='lnd')\n",
    "delta_LWnet = delta_LWin - delta_LWout\n",
    "\n",
    "delta_LWnet.attrs['units'] = 'W m^{-2}'\n",
    "delta_LWnet.attrs['long_name'] = 'net longwave radiation'\n",
    "var = 'FGR'\n",
    "delta_fgr = open_da_delta(var,case_res,case_nores, block='lnd')\n",
    "var = 'FSH'\n",
    "delta_fsh = open_da_delta(var,case_res,case_nores, block='lnd')\n",
    "var = 'EFLX_LH_TOT'\n",
    "delta_eflx_lh = open_da_delta(var,case_res,case_nores, block='lnd')\n",
    "\n",
    "var = 'albedo' \n",
    "delta_albedo = open_da_delta(var,case_res,case_nores, block='lnd')\n",
    "\n",
    "\n",
    "delta_LWnet.attrs['units'] = 'W $m^{-2}$'\n",
    "delta_SWnet.attrs['units'] = 'W $m^{-2}$'\n",
    "delta_eflx_lh.attrs['units'] = 'W $m^{-2}$'\n",
    "delta_fsh.attrs['units'] = 'W $m^{-2}$'\n",
    "delta_fgr.attrs['units'] = 'W $m^{-2}$'"
   ]
  },
  {
   "cell_type": "code",
   "execution_count": null,
   "metadata": {},
   "outputs": [],
   "source": [
    "delta_LWnet.attrs['units'] = 'W m$^{-2}$'\n",
    "delta_SWnet.attrs['units'] = 'W m$^{-2}$'\n",
    "delta_eflx_lh.attrs['units'] = 'W m$^{-2}$'\n",
    "delta_fsh.attrs['units'] = 'W m$^{-2}$'\n",
    "delta_fgr.attrs['units'] = 'W m$^{-2}$'\n",
    "\n",
    "fig, axes = plt.subplots(2,3, figsize=(14,6))\n",
    "axes=axes.flatten()\n",
    "\n",
    "\n",
    "ylims = [-13,13]\n",
    "\n",
    "plot_seascycle_respct(delta_eflx_lh, ax = axes[0], title='$\\Delta$ LHF', legend=False, vlims= ylims, panel_label ='a' )\n",
    "\n",
    "\n",
    "plot_seascycle_respct(delta_fsh, ax = axes[1], title='$\\Delta$ SHF', legend=False, vlims= ylims, panel_label ='b' )\n",
    "\n",
    "\n",
    "plot_seascycle_respct(delta_fgr, ax = axes[2], title='$\\Delta$ Subsurface Heat Flux', legend=True, vlims= ylims, panel_label ='c' )\n",
    "\n",
    "ylims = [-13,13]\n",
    "\n",
    "plot_seascycle_respct(delta_SWnet, ax = axes[3], title='$\\Delta$ SW$_{net}$', legend=False, vlims= ylims, panel_label ='d' )\n",
    "\n",
    "plot_seascycle_respct(delta_LWnet, ax = axes[4], title='$\\Delta$ LW$_{net}$', legend=False, vlims= ylims, panel_label ='e' )\n",
    "\n",
    "\n",
    "ylims = [-0.04,0.04]\n",
    "\n",
    "plot_seascycle_respct(delta_albedo, ax = axes[5], title='$\\Delta$ Albedo', legend=False, vlims= ylims, panel_label ='f')\n",
    "\n",
    "\n",
    "fig.tight_layout()\n",
    "\n",
    "fig.savefig('./plots/SEB_cycles.png',  bbox_inches='tight')\n"
   ]
  },
  {
   "cell_type": "code",
   "execution_count": null,
   "metadata": {},
   "outputs": [],
   "source": [
    "# get values\n",
    "\n",
    "def print_value(da_in, value): \n",
    "    print(value)\n",
    "\n",
    "    \n",
    "# SWnet range   \n",
    "print('SWnet range')\n",
    "print(delta_SWnet.where(get_resmask(threshold=0)).groupby('time.month').mean().mean(dim=('lat','lon')).max().values - delta_SWnet.where(get_resmask(threshold=0)).groupby('time.month').mean().mean(dim=('lat','lon')).min().values)\n",
    "print()\n",
    "\n",
    "# LHF max    \n",
    "print('LHF max' )\n",
    "print('>0%' )\n",
    "print(delta_eflx_lh.where(get_resmask(threshold=0)).groupby('time.month').mean().mean(dim=('lat','lon')).max().values )\n",
    "print('>15%' )\n",
    "print(delta_eflx_lh.where(get_resmask(threshold=15)).groupby('time.month').mean().mean(dim=('lat','lon')).max().values )\n",
    "print()\n",
    "\n",
    "# SHF min    \n",
    "print('SHF min' )\n",
    "print('>0%' )\n",
    "print(delta_fsh.where(get_resmask(threshold=0)).groupby('time.month').mean().mean(dim=('lat','lon')).min().values )\n",
    "print('>15%' )\n",
    "print(delta_fsh.where(get_resmask(threshold=15)).groupby('time.month').mean().mean(dim=('lat','lon')).min().values )\n",
    "print()\n",
    "\n",
    "# Subsurface flux \n",
    "print('Subsurface max')\n",
    "print('>0%' )\n",
    "print(delta_fgr.where(get_resmask(threshold=0)).groupby('time.month').mean().mean(dim=('lat','lon')).max().values )\n",
    "print('>15%' )\n",
    "print(delta_fgr.where(get_resmask(threshold=15)).groupby('time.month').mean().mean(dim=('lat','lon')).max().values )\n",
    "\n",
    "print('Subsurface min')\n",
    "print('>0%' )\n",
    "print(delta_fgr.where(get_resmask(threshold=0)).groupby('time.month').mean().mean(dim=('lat','lon')).min().values )\n",
    "print('>15%' )\n",
    "print(delta_fgr.where(get_resmask(threshold=15)).groupby('time.month').mean().mean(dim=('lat','lon')).min().values )\n",
    "print()\n",
    "\n",
    "print('Subsurface mean')\n",
    "print('>0%' )\n",
    "print(delta_fgr.where(get_resmask(threshold=0)).groupby('time.month').mean().mean(dim=('lat','lon')).mean().values )\n",
    "print('>15%' )\n",
    "print(delta_fgr.where(get_resmask(threshold=15)).groupby('time.month').mean().mean(dim=('lat','lon')).mean().values )\n",
    "\n",
    "print('albedo')\n",
    "print(delta_albedo.where(get_resmask(threshold=0)).mean().values)"
   ]
  },
  {
   "cell_type": "markdown",
   "metadata": {},
   "source": [
    "### Figure 7. Temperature decomposition\n",
    "See [Surface Temperature Decomposition notebook](./pp_FHIST_STDC.ipynb)\n"
   ]
  },
  {
   "cell_type": "markdown",
   "metadata": {},
   "source": [
    "### Figure 8. Ensemble size? \n",
    "See [Ensemble size noteboook](./pp_FHIST_enssize.ipynb)\n"
   ]
  }
 ],
 "metadata": {
  "kernelspec": {
   "display_name": "Python [conda env:miniconda-ctsm]",
   "language": "python",
   "name": "conda-env-miniconda-ctsm-py"
  },
  "language_info": {
   "codemirror_mode": {
    "name": "ipython",
    "version": 3
   },
   "file_extension": ".py",
   "mimetype": "text/x-python",
   "name": "python",
   "nbconvert_exporter": "python",
   "pygments_lexer": "ipython3",
   "version": "3.7.7"
  }
 },
 "nbformat": 4,
 "nbformat_minor": 4
}
